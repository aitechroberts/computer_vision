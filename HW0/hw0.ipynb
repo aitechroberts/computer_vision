{
 "cells": [
  {
   "cell_type": "markdown",
   "metadata": {},
   "source": [
    "## WARMUPS"
   ]
  },
  {
   "cell_type": "code",
   "execution_count": 23,
   "metadata": {},
   "outputs": [],
   "source": [
    "import numpy as np"
   ]
  },
  {
   "cell_type": "code",
   "execution_count": null,
   "metadata": {},
   "outputs": [],
   "source": [
    "def w1(X):\n",
    "    \"\"\"\n",
    "    Input:\n",
    "    - X: A numpy array\n",
    "\n",
    "    Returns:\n",
    "    - A matrix Y such that Y[i, j] = X[i, j] * 10 + 100\n",
    "\n",
    "    Hint: Trust that numpy will do the right thing\n",
    "\n",
    "    *** AKA element-wise operations through broadcasting. so regardless of size X[i,j], each element is multiplied by 10 and adds 100 \n",
    "    \"\"\"\n",
    "    return X * 10 + 100"
   ]
  },
  {
   "cell_type": "code",
   "execution_count": null,
   "metadata": {},
   "outputs": [],
   "source": [
    "def w2(X, Y):\n",
    "    \"\"\"\n",
    "    Inputs:\n",
    "    - X: A numpy array of shape (N, N)\n",
    "    - Y: A numpy array of shape (N, N)\n",
    "\n",
    "    Returns:\n",
    "    A numpy array Z such that Z[i, j] = X[i, j] + 10 * Y[i, j]\n",
    "\n",
    "    Hint: Trust that numpy will do the right thing\n",
    "\n",
    "    *** Same concept here as Y is multiplied element-wise by 10 and then added to X via normal linalg processes as they are the same size\n",
    "    \"\"\"\n",
    "    return X + 10 * Y"
   ]
  },
  {
   "cell_type": "code",
   "execution_count": null,
   "metadata": {},
   "outputs": [],
   "source": [
    "def w3(X, Y):\n",
    "    \"\"\"\n",
    "    Inputs:\n",
    "    - X: A numpy array of shape (N, N)\n",
    "    - Y: A numpy array of shape (N, N)\n",
    "\n",
    "    Returns:\n",
    "    A numpy array Z such that Z[i, j] = X[i, j] * Y[i, j] - 10\n",
    "\n",
    "    Hint: By analogy to +, * will do the same thing\n",
    "    \"\"\"\n",
    "    return X * Y - 10"
   ]
  },
  {
   "cell_type": "code",
   "execution_count": null,
   "metadata": {},
   "outputs": [],
   "source": [
    "def w4(X, Y):\n",
    "    \"\"\"\n",
    "    Inputs:\n",
    "    - X: Numpy array of shape (N, N)\n",
    "    - Y: Numpy array of shape (N, N)\n",
    "\n",
    "    Returns:\n",
    "    A numpy array giving the matrix product X times Y\n",
    "\n",
    "    Hint: \n",
    "    1. Be careful! There are different variants of *, @, dot\n",
    "    2.  a = [[1,2],\n",
    "             [1,2]]\n",
    "        b = [[2,2],\n",
    "             [3,3]]\n",
    "        a * b = [[2,4],\n",
    "                 [3,6]]\n",
    "    Is this matrix multiplication?\n",
    "\n",
    "    Matrix product = X @ Y = np.matmul\n",
    "    \"\"\"\n",
    "    return X @ Y"
   ]
  },
  {
   "cell_type": "code",
   "execution_count": null,
   "metadata": {},
   "outputs": [],
   "source": [
    "def w5(X):\n",
    "    \"\"\"\n",
    "    Inputs:\n",
    "    - X: A numpy array of shape (N, N) of floating point numbers\n",
    "\n",
    "    Returns:\n",
    "    A numpy array with the same data as X, but cast to 32-bit integers\n",
    "\n",
    "    Hint: Check .astype() !\n",
    "    \n",
    "    int_array = float_array.astype(np.int32) defaul copies one array to a new casted array\n",
    "\n",
    "    which is the same as....\n",
    "\n",
    "    int_array = np.array(x, dtype=int32)\n",
    "\n",
    "    BUT astype is memory efficient if cast to the original variable\n",
    "    \"\"\"\n",
    "    return X.astype(np.int32)"
   ]
  },
  {
   "cell_type": "code",
   "execution_count": null,
   "metadata": {},
   "outputs": [],
   "source": [
    "def w6(X, Y):\n",
    "    \"\"\"\n",
    "    Inputs:\n",
    "    - X: A numpy array of shape (N,) of integers\n",
    "    - Y: A numpy array of shape (N,) of integers\n",
    "\n",
    "    Returns:\n",
    "    A numpy array Z such that Z[i] = float(X[i]) / float(Y[i])\n",
    "\n",
    "    **** To handle division where Y = 0\n",
    "    np.divide(X.astype(np.float64), Y.astype(np.float64), out=np.zeros_like(X, dtype=np.float64), where=Y!=0)\n",
    "    \n",
    "    \"\"\"\n",
    "    return X.astype(np.float64)/Y.astype(np.float64)\n"
   ]
  },
  {
   "cell_type": "code",
   "execution_count": null,
   "metadata": {},
   "outputs": [],
   "source": [
    "def w7(X):\n",
    "    \"\"\"\n",
    "    Inputs:\n",
    "    - X: A numpy array of shape (N, M)\n",
    "\n",
    "    Returns:\n",
    "    - A numpy array Y of shape (N * M, 1) containing the entries of X in row\n",
    "      order. That is, X[i, j] = Y[i * M + j, 0]\n",
    "\n",
    "    Hint:\n",
    "    1) np.reshape\n",
    "    2) You can specify an unknown dimension as -1\n",
    "\n",
    "    *** aka, you could use X.reshape(-1, 1) where numpy would see -1 as an unknown shape and calculate the shape as necessary to meet the (,1) demand \n",
    "    \"\"\"\n",
    "    n,m = np.shape(X)\n",
    "    new = np.reshape(X,(n*m, 1))\n",
    "    return new"
   ]
  },
  {
   "cell_type": "code",
   "execution_count": null,
   "metadata": {},
   "outputs": [],
   "source": [
    "def w8(N):\n",
    "    \"\"\"\n",
    "    Inputs:\n",
    "    - N: An integer\n",
    "\n",
    "    Returns:\n",
    "    A numpy array of shape (N, 2N)\n",
    "\n",
    "    Hint: The error \"data type not understood\" means you probably called\n",
    "    np.ones or np.zeros with two arguments, instead of a tuple for the shape\n",
    "    \"\"\"\n",
    "    return np.ones((N,2*N))"
   ]
  },
  {
   "cell_type": "code",
   "execution_count": null,
   "metadata": {},
   "outputs": [],
   "source": [
    "def w9(X):\n",
    "    \"\"\"\n",
    "    Inputs:\n",
    "    - X: A numpy array of shape (N, M) where each entry is between 0 and 1\n",
    "\n",
    "    Returns:\n",
    "    A numpy array Y where Y[i, j] = True if X[i, j] > 0.5\n",
    "\n",
    "    Hint: Try boolean array indexing\n",
    "    \"\"\"\n",
    "    return X > 0.5"
   ]
  },
  {
   "cell_type": "code",
   "execution_count": null,
   "metadata": {},
   "outputs": [],
   "source": [
    "def w10(N):\n",
    "    \"\"\"\n",
    "    Inputs:\n",
    "    - N: An integer\n",
    "\n",
    "    Returns:\n",
    "    A numpy array X of shape (N,) such that X[i] = i\n",
    "\n",
    "    Hint: np.arange\n",
    "    \"\"\"\n",
    "    return np.arange(N)"
   ]
  },
  {
   "cell_type": "code",
   "execution_count": null,
   "metadata": {},
   "outputs": [],
   "source": [
    "def w11(A, v):\n",
    "    \"\"\"\n",
    "    Inputs:\n",
    "    - A: A numpy array of shape (N, F)\n",
    "    - v: A numpy array of shape (F, 1)\n",
    "\n",
    "    Returns:\n",
    "    Numpy array of shape (N, 1) giving the matrix-vector product Av\n",
    "    \"\"\"\n",
    "    return A.dot(v)"
   ]
  },
  {
   "cell_type": "code",
   "execution_count": null,
   "metadata": {},
   "outputs": [],
   "source": [
    "def w12(A, v):\n",
    "    \"\"\"\n",
    "    Inputs:\n",
    "    - A: A numpy array of shape (N, N), of full rank\n",
    "    - v: A numpy array of shape (N, 1)\n",
    "\n",
    "    Returns:\n",
    "    Numpy array of shape (N, 1) giving the matrix-vector product of the inverse\n",
    "    of A and v: A^-1 v\n",
    "\n",
    "    *** Full rank means invertible and is computed like so np.linalg.inv(A).\n",
    "\n",
    "    Or np.linalg.solve(A, v) solves the equation Ax=v directly, which is more efficient and\n",
    "    avoids numerical issues that might arise from computing the inverse explicitly.\n",
    "    \"\"\"\n",
    "    return np.linalg.inv(A).dot(v)"
   ]
  },
  {
   "cell_type": "code",
   "execution_count": null,
   "metadata": {},
   "outputs": [],
   "source": [
    "def w13(u, v):\n",
    "    \"\"\"\n",
    "    Inputs:\n",
    "    - u: A numpy array of shape (N, 1)\n",
    "    - v: A numpy array of shape (N, 1)\n",
    "\n",
    "    Returns:\n",
    "    The inner product u^T v\n",
    "\n",
    "    Hint: .T\n",
    "\n",
    "    *** u.T.dot(v) would return a matrix of [1,1] when the below returns a scalar\n",
    "    \"\"\"\n",
    "    return u.T @ (v)"
   ]
  },
  {
   "cell_type": "code",
   "execution_count": null,
   "metadata": {},
   "outputs": [],
   "source": [
    "def w14(v):\n",
    "    \"\"\"\n",
    "    Inputs:\n",
    "    - v: A numpy array of shape (N, 1)\n",
    "\n",
    "    Returns:\n",
    "    The L2 norm of v: norm = (sum_i^N v[i]^2)^(1/2)\n",
    "    You MAY NOT use np.linalg.norm\n",
    "\n",
    "    *** Equation read as:\n",
    "    square root of (the sum from i to N of each element of the vector squared)\n",
    "    or sqrt(SUM from i to N of V[i] squared)\n",
    "    \"\"\"\n",
    "    return np.sqrt(np.sum(v**2))"
   ]
  },
  {
   "cell_type": "code",
   "execution_count": null,
   "metadata": {},
   "outputs": [],
   "source": [
    "def w15(X, i):\n",
    "    \"\"\"\n",
    "    Inputs:\n",
    "    - X: A numpy array of shape (N, M)\n",
    "    - i: An integer in the range 0 <= i < N\n",
    "\n",
    "    Returns:\n",
    "    Numpy array of shape (M,) giving the ith row of X\n",
    "\n",
    "    *** Stupid little way of saying, give me the ith row of X which will already be of the shape (M,)\n",
    "    \"\"\"\n",
    "    return X[i]"
   ]
  },
  {
   "cell_type": "code",
   "execution_count": null,
   "metadata": {},
   "outputs": [],
   "source": [
    "def w16(X):\n",
    "    \"\"\"\n",
    "    Inputs:\n",
    "    - X: A numpy array of shape (N, M)\n",
    "\n",
    "    Returns:\n",
    "    The sum of all entries in X\n",
    "\n",
    "    Hint: np.sum\n",
    "    \"\"\"\n",
    "    return np.sum(X)"
   ]
  },
  {
   "cell_type": "code",
   "execution_count": null,
   "metadata": {},
   "outputs": [],
   "source": [
    "def w17(X):\n",
    "    \"\"\"\n",
    "    Inputs:\n",
    "    - X: A numpy array of shape (N, M)\n",
    "\n",
    "    Returns:\n",
    "    A numpy array S of shape (N,) where S[i] is the sum of row i of X\n",
    "\n",
    "    Hint: np.sum has an optional \"axis\" argument\n",
    "\n",
    "    *** Basically means sum across the columns which will produce S of shape(N,) where any given value is the sum of that rows columns\n",
    "    The axis=1 argument tells NumPy to sum along columns, meaning that for each row i  \n",
    "    i, the sum of all columns is calculated.\n",
    "    This results in an array of shape (N,), which matches the expected output.\n",
    "    \"\"\"\n",
    "    return np.sum(X, axis=1)"
   ]
  },
  {
   "cell_type": "code",
   "execution_count": null,
   "metadata": {},
   "outputs": [],
   "source": [
    "def w18(X):\n",
    "    \"\"\"\n",
    "    Inputs:\n",
    "    - X: A numpy array of shape (N, M)\n",
    "\n",
    "    Returns:\n",
    "    A numpy array S of shape (M,) where S[j] is the sum of column j of X\n",
    "\n",
    "    Hint: Same as above\n",
    "    \"\"\"\n",
    "    return np.sum(X, axis=0)"
   ]
  },
  {
   "cell_type": "code",
   "execution_count": null,
   "metadata": {},
   "outputs": [],
   "source": [
    "def w19(X):\n",
    "    \"\"\"\n",
    "    Inputs:\n",
    "    - X: A numpy array of shape (N, M)\n",
    "\n",
    "    Returns:\n",
    "    A numpy array S of shape (N, 1) where S[i, 0] is the sum of row i of X\n",
    "\n",
    "    Hint: np.sum has an optional \"keepdims\" argument\n",
    "\n",
    "    *** keepdims=True simply makes it (N,1) for a 2D answer rather than (N,)\n",
    "    \"\"\"\n",
    "    return np.sum(X, axis=1, keepdims=True)"
   ]
  },
  {
   "cell_type": "code",
   "execution_count": null,
   "metadata": {},
   "outputs": [],
   "source": [
    "def w20(X):\n",
    "    \"\"\"\n",
    "    Inputs:\n",
    "    - X: A numpy array of shape (N, M)\n",
    "\n",
    "    Returns:\n",
    "    A numpy array S of shape (N, 1) where S[i] is the L2 norm of row i of X\n",
    "    \"\"\"\n",
    "\n",
    "    return np.sqrt(np.sum(X**2, axis=1, keepdims=True))"
   ]
  },
  {
   "cell_type": "markdown",
   "metadata": {},
   "source": [
    "## TESTS"
   ]
  },
  {
   "cell_type": "code",
   "execution_count": 25,
   "metadata": {},
   "outputs": [],
   "source": [
    "import numpy as np\n",
    "\n",
    "a = np.array([[1,2,3]])\n",
    "b = np.array([[4,5,6]])\n",
    "c = np.array([[0,1,0]])\n",
    "\n",
    "array_list1 = [a,b,c]"
   ]
  },
  {
   "cell_type": "code",
   "execution_count": 26,
   "metadata": {},
   "outputs": [
    {
     "name": "stdout",
     "output_type": "stream",
     "text": [
      "[[1 2 3]\n",
      " [4 5 6]\n",
      " [0 1 0]]\n"
     ]
    }
   ],
   "source": [
    "\n",
    "def t1(L):\n",
    "    \"\"\"\n",
    "    Inputs:\n",
    "    - L: A list of M numpy arrays, each of shape (1, N)\n",
    "\n",
    "    Returns:\n",
    "    A numpy array of shape (M, N) giving all inputs stacked together\n",
    "\n",
    "    Par: 1 line\n",
    "    Instructor: 1 line\n",
    "\n",
    "    Hint: vstack/hstack/dstack, no for loop\n",
    "    This is equivalent to concatenation along the first axis after 1-D arrays of shape (N,) have been reshaped to (1,N). Rebuilds arrays divided by vsplit.\n",
    "    \"\"\"\n",
    "\n",
    "    return np.vstack(L)\n",
    "\n",
    "print(t1(array_list1))\n",
    "\n"
   ]
  },
  {
   "cell_type": "code",
   "execution_count": 27,
   "metadata": {},
   "outputs": [
    {
     "name": "stdout",
     "output_type": "stream",
     "text": [
      "[ 0.65207662-0.j         -0.07535414+0.50288247j -0.31252866-0.46749641j]\n"
     ]
    }
   ],
   "source": [
    "def t2(X):\n",
    "    \"\"\"\n",
    "    Inputs:\n",
    "    - X: A numpy array of shape (N, N)\n",
    "\n",
    "    Returns:\n",
    "    Numpy array of shape (N,) giving the eigenvector corresponding to the\n",
    "    smallest eigenvalue of X\n",
    "\n",
    "    Par: 5 lines\n",
    "    Instructor: 3 lines\n",
    "\n",
    "    Hints:\n",
    "    1) np.linalg.eig\n",
    "    2) np.argmin\n",
    "    3) Watch rows and columns!\n",
    "    \"\"\"\n",
    "\n",
    "    eig_vals, eig_vecs = np.linalg.eig(X) # returns an Eig object of ([eigenvalues], [eigenvectors])\n",
    "    eig_val_min = np.argmin(eig_vals) # selects the INDEX of the smallest argument in the 1D array of Eigenvalues\n",
    "    '''\n",
    "    Eigenvectors is an (N,N) matrix where each column (,n) is an eigenvector rather than the rows\n",
    "    eig_vecs[eig_val_min] returns the row which is incorrect while eig_vecs[: , eig_val_min] returns the column\n",
    "    '''\n",
    "\n",
    "    # Use the index of the minimum to return the corresponding eigenvector\n",
    "    return eig_vecs[: ,eig_val_min]\n",
    "\n",
    "print(t2(t1(array_list1)))"
   ]
  }
 ],
 "metadata": {
  "kernelspec": {
   "display_name": "Python 3.10 ML Env",
   "language": "python",
   "name": "py3-10-ml-env"
  },
  "language_info": {
   "codemirror_mode": {
    "name": "ipython",
    "version": 3
   },
   "file_extension": ".py",
   "mimetype": "text/x-python",
   "name": "python",
   "nbconvert_exporter": "python",
   "pygments_lexer": "ipython3",
   "version": "3.10.12"
  }
 },
 "nbformat": 4,
 "nbformat_minor": 2
}
